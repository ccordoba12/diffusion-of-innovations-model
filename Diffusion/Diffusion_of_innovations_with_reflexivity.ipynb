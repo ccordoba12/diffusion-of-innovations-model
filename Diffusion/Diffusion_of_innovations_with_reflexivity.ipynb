{
 "cells": [
  {
   "cell_type": "markdown",
   "metadata": {},
   "source": [
    "# Reflexivity in a diffusion of innovations model"
   ]
  },
  {
   "cell_type": "markdown",
   "metadata": {},
   "source": [
    "This code tries to replicate the diffusion of innovations model present in\n",
    "\n",
    "> *Diffusion dynamics in small-world networks with heterogeneous consumers* from Delre, Sebastiano A., Jager, Wander and Janssen, Marco A., Computational and Mathematical Organization Theory, **13**, 2, 2007.\n",
    "\n",
    "with some modifications.\n",
    "\n",
    "It also adds new features that try to introduce reflexivity in it."
   ]
  },
  {
   "cell_type": "markdown",
   "metadata": {},
   "source": [
    "## 1. Initialization"
   ]
  },
  {
   "cell_type": "markdown",
   "metadata": {},
   "source": [
    "### 1.1 External libraries"
   ]
  },
  {
   "cell_type": "code",
   "execution_count": null,
   "metadata": {
    "collapsed": false
   },
   "outputs": [],
   "source": [
    "from __future__ import division\n",
    "\n",
    "import os\n",
    "\n",
    "from ipyparallel import Client\n",
    "import numpy as np\n",
    "import matplotlib\n",
    "import matplotlib.gridspec as gridspec\n",
    "import matplotlib.pyplot as plt\n",
    "import seaborn as sns"
   ]
  },
  {
   "cell_type": "code",
   "execution_count": null,
   "metadata": {
    "collapsed": true
   },
   "outputs": [],
   "source": [
    "%matplotlib inline"
   ]
  },
  {
   "cell_type": "code",
   "execution_count": null,
   "metadata": {
    "collapsed": false
   },
   "outputs": [],
   "source": [
    "if not os.name == 'nt':\n",
    "    matplotlib.rc('text', usetex=True)"
   ]
  },
  {
   "cell_type": "code",
   "execution_count": null,
   "metadata": {
    "collapsed": true
   },
   "outputs": [],
   "source": [
    "#plt.style.use('seaborn-paper')\n",
    "sns.set_style(\"whitegrid\")"
   ]
  },
  {
   "cell_type": "markdown",
   "metadata": {},
   "source": [
    "### 1.2 Autoreload"
   ]
  },
  {
   "cell_type": "code",
   "execution_count": null,
   "metadata": {
    "collapsed": true
   },
   "outputs": [],
   "source": [
    "%load_ext autoreload"
   ]
  },
  {
   "cell_type": "code",
   "execution_count": null,
   "metadata": {
    "collapsed": true
   },
   "outputs": [],
   "source": [
    "%autoreload 2"
   ]
  },
  {
   "cell_type": "code",
   "execution_count": null,
   "metadata": {
    "collapsed": false
   },
   "outputs": [],
   "source": [
    "# Client and DirectView for IPyparallel kernels\n",
    "rc = Client()\n",
    "dview = rc[:]"
   ]
  },
  {
   "cell_type": "code",
   "execution_count": null,
   "metadata": {
    "collapsed": false
   },
   "outputs": [],
   "source": [
    "%px %load_ext autoreload"
   ]
  },
  {
   "cell_type": "code",
   "execution_count": null,
   "metadata": {
    "collapsed": true
   },
   "outputs": [],
   "source": [
    "%px %autoreload 2"
   ]
  },
  {
   "cell_type": "markdown",
   "metadata": {},
   "source": [
    "### 1.3 Internal code"
   ]
  },
  {
   "cell_type": "code",
   "execution_count": null,
   "metadata": {
    "collapsed": true
   },
   "outputs": [],
   "source": [
    "from algorithm import compute_run, generate_initial_conditions, generate_parameters\n",
    "from plots import plot_adopters, plot_indexes"
   ]
  },
  {
   "cell_type": "code",
   "execution_count": null,
   "metadata": {
    "collapsed": false
   },
   "outputs": [],
   "source": [
    "# Import our algorithm here and in IPyparallel kernels\n",
    "with rc[:].sync_imports():\n",
    "    from algorithm import single_run"
   ]
  },
  {
   "cell_type": "markdown",
   "metadata": {},
   "source": [
    "## 2. Running the model"
   ]
  },
  {
   "cell_type": "markdown",
   "metadata": {},
   "source": [
    "### 2.1 Parameters"
   ]
  },
  {
   "cell_type": "markdown",
   "metadata": {},
   "source": [
    "These are main parameters that control the evolution of the algorithm, and their corresponding variable in the article:\n",
    "\n",
    "* Network randomness: $r$\n",
    "* Average number of neighbors: $k$\n",
    "* Initial proportion (or seed) of adopters: $\\delta$\n",
    "* Coefficient of social influence: $\\beta$\n",
    "* Threshold of adopters among neighbors: $h$\n",
    "* Quality: $q$\n",
    "* Total number of consumers: $N$\n",
    "* Activation sharpness: $\\phi$\n",
    "* Critical mass of adopters: $M_{c}$\n",
    "\n",
    "----\n",
    "\n",
    "* Marketing effort: $e_{1}$\n",
    "* Level: $L$"
   ]
  },
  {
   "cell_type": "code",
   "execution_count": null,
   "metadata": {
    "collapsed": false
   },
   "outputs": [],
   "source": [
    "parameters = dict(\n",
    "    randomness = 0.01,\n",
    "    number_of_neighbors = 15,\n",
    "    initial_seed = 0.001,\n",
    "    adopters_threshold = 0.8,\n",
    "    social_influence = 0.7,\n",
    "    quality = 0.5,\n",
    "    number_of_consumers = 1000,\n",
    "    activation_sharpness = 5,\n",
    "    critical_mass = 0.25,\n",
    "    marketing_effort = 0,\n",
    "    level = 1\n",
    "    #minimal_utility = 0.5,\n",
    ")"
   ]
  },
  {
   "cell_type": "markdown",
   "metadata": {},
   "source": [
    "### 2.2 Simulation"
   ]
  },
  {
   "cell_type": "code",
   "execution_count": null,
   "metadata": {
    "collapsed": false
   },
   "outputs": [],
   "source": [
    "data = compute_run(30, parameters, max_time=45, dview=dview)"
   ]
  },
  {
   "cell_type": "markdown",
   "metadata": {},
   "source": [
    "## 3. Plots"
   ]
  },
  {
   "cell_type": "markdown",
   "metadata": {},
   "source": [
    "### 3.1 2d plots"
   ]
  },
  {
   "cell_type": "code",
   "execution_count": null,
   "metadata": {
    "collapsed": false
   },
   "outputs": [],
   "source": [
    "plt.figure(figsize=(8, 6))\n",
    "plot_adopters(data, 'k', parameters['number_of_neighbors'])"
   ]
  },
  {
   "cell_type": "code",
   "execution_count": null,
   "metadata": {
    "collapsed": false
   },
   "outputs": [],
   "source": [
    "# Plot the cumulative sum of adopters and non-adopters (the usual diffusion curve)\n",
    "plt.figure(figsize=(8, 6))\n",
    "plot_adopters(data, 'k', parameters['number_of_neighbors'], cumulative=True)"
   ]
  },
  {
   "cell_type": "markdown",
   "metadata": {},
   "source": [
    "### 3.2 Logistic function form"
   ]
  },
  {
   "cell_type": "markdown",
   "metadata": {},
   "source": [
    "This explores how the logistic function changes under different values of $k$ and $x_{0}$"
   ]
  },
  {
   "cell_type": "code",
   "execution_count": null,
   "metadata": {
    "collapsed": true
   },
   "outputs": [],
   "source": [
    "from sympy import plot, symbols, exp"
   ]
  },
  {
   "cell_type": "code",
   "execution_count": null,
   "metadata": {
    "collapsed": true
   },
   "outputs": [],
   "source": [
    "x = symbols('x')"
   ]
  },
  {
   "cell_type": "code",
   "execution_count": null,
   "metadata": {
    "collapsed": true
   },
   "outputs": [],
   "source": [
    "def symbolic_logistic(x, k, x0):\n",
    "    return 1 / ( 1 + exp(-k * (x - x0)) )"
   ]
  },
  {
   "cell_type": "code",
   "execution_count": null,
   "metadata": {
    "collapsed": false
   },
   "outputs": [],
   "source": [
    "plot(symbolic_logistic(x, 25, 0.6), 1, (x, 0, 1))"
   ]
  },
  {
   "cell_type": "code",
   "execution_count": null,
   "metadata": {
    "collapsed": false
   },
   "outputs": [],
   "source": [
    "for i in np.arange(0, 0.5, 0.01):\n",
    "    r = symbolic_logistic(i, 90, 0.5)\n",
    "    if r > 0.005:\n",
    "        print(i)\n",
    "        break"
   ]
  },
  {
   "cell_type": "markdown",
   "metadata": {},
   "source": [
    "### 3.3 Animations"
   ]
  },
  {
   "cell_type": "code",
   "execution_count": null,
   "metadata": {
    "collapsed": true
   },
   "outputs": [],
   "source": [
    "%matplolib qt"
   ]
  },
  {
   "cell_type": "code",
   "execution_count": null,
   "metadata": {
    "collapsed": true
   },
   "outputs": [],
   "source": [
    "import matplotlib.animation as animation"
   ]
  },
  {
   "cell_type": "code",
   "execution_count": null,
   "metadata": {
    "collapsed": true
   },
   "outputs": [],
   "source": [
    "G = generate_initial_conditions(1000, parameters)"
   ]
  },
  {
   "cell_type": "code",
   "execution_count": null,
   "metadata": {
    "collapsed": false
   },
   "outputs": [],
   "source": [
    "# Plot an animation of the evolution\n",
    "fig = plt.figure()\n",
    "positions = nx.spring_layout(G)\n",
    "animation.FuncAnimation(fig, lambda i: animate(i, G, positions, parameters, test=False),\n",
    "                        frames=500, interval=3, repeat=False)"
   ]
  },
  {
   "cell_type": "markdown",
   "metadata": {},
   "source": [
    "## 4. Results"
   ]
  },
  {
   "cell_type": "markdown",
   "metadata": {},
   "source": [
    "### 4.1 Varying adopters threshold"
   ]
  },
  {
   "cell_type": "code",
   "execution_count": null,
   "metadata": {
    "collapsed": true
   },
   "outputs": [],
   "source": [
    "adopters_parameters = dict(\n",
    "    randomness = 0.01,\n",
    "    number_of_neighbors = 15,\n",
    "    initial_seed = 0.001,\n",
    "    social_influence = 0.7,\n",
    "    quality = 0.5,\n",
    "    number_of_consumers = 1000,\n",
    "    activation_sharpness = 25,\n",
    "    critical_mass = 0.6,\n",
    "    marketing_effort = 0,\n",
    "    level = 1\n",
    ")"
   ]
  },
  {
   "cell_type": "code",
   "execution_count": null,
   "metadata": {
    "collapsed": false
   },
   "outputs": [],
   "source": [
    "thresholds = [0.1, 0.5, 0.7, 0.9]\n",
    "set_of_parameters = generate_parameters(adopters_parameters, 'adopters_threshold', thresholds)"
   ]
  },
  {
   "cell_type": "code",
   "execution_count": null,
   "metadata": {
    "collapsed": false
   },
   "outputs": [],
   "source": [
    "data = []\n",
    "for p in set_of_parameters:\n",
    "    p_data = compute_run(number_of_times=50, parameters=p, max_time=60, dview=dview)\n",
    "    data.append(p_data)"
   ]
  },
  {
   "cell_type": "code",
   "execution_count": null,
   "metadata": {
    "collapsed": false
   },
   "outputs": [],
   "source": [
    "f, axes = plt.subplots(2, 2, figsize=(9, 9), sharex=True, sharey=True)\n",
    "\n",
    "for ax, d, t in zip(axes.flat, data, thresholds):\n",
    "    plot_adopters(d, 'h', t, axis=ax, fontsize=14, cumulative=True)\n",
    "\n",
    "f.tight_layout()"
   ]
  },
  {
   "cell_type": "code",
   "execution_count": null,
   "metadata": {
    "collapsed": false
   },
   "outputs": [],
   "source": [
    "if os.name == 'nt':\n",
    "    figsize = (9, 9)\n",
    "    fontsize = 11\n",
    "else:\n",
    "    figsize = (10, 10)\n",
    "    fontsize = 15\n",
    "\n",
    "fig = plt.figure(figsize=figsize)\n",
    "\n",
    "outer_grid = gridspec.GridSpec(2, 2, hspace=0.15)\n",
    "\n",
    "for i, d, t in zip(range(4), data, thresholds):\n",
    "    inner_grid = gridspec.GridSpecFromSubplotSpec(2, 1, subplot_spec=outer_grid[i],\n",
    "                                                  height_ratios = [1, 2.6],\n",
    "                                                  hspace=0.02)\n",
    "    ax_top = plt.Subplot(fig, inner_grid[0])\n",
    "    ax_joint = plt.Subplot(fig, inner_grid[1])\n",
    "\n",
    "    ax_joint.set_ylim(top=3000)\n",
    "    if i == 0 or i == 1:\n",
    "        plt.setp(ax_joint.get_xticklabels(), visible=False)\n",
    "    if i == 1 or i == 3:\n",
    "        plt.setp(ax_joint.get_yticklabels(), visible=False)\n",
    "\n",
    "    fig.add_subplot(ax_joint)\n",
    "    fig.add_subplot(ax_top, sharex=ax_joint)\n",
    "\n",
    "    plot_adopters(d, 'h', t, axis=ax_joint, fontsize=fontsize, cumulative=True)\n",
    "    plot_indexes(d, axis=ax_top, critical_mass=0.4, max_time=100)"
   ]
  },
  {
   "cell_type": "code",
   "execution_count": null,
   "metadata": {
    "collapsed": true
   },
   "outputs": [],
   "source": []
  }
 ],
 "metadata": {
  "kernelspec": {
   "display_name": "Python 2",
   "language": "python",
   "name": "python2"
  },
  "language_info": {
   "codemirror_mode": {
    "name": "ipython",
    "version": 2
   },
   "file_extension": ".py",
   "mimetype": "text/x-python",
   "name": "python",
   "nbconvert_exporter": "python",
   "pygments_lexer": "ipython2",
   "version": "2.7.11"
  }
 },
 "nbformat": 4,
 "nbformat_minor": 0
}
