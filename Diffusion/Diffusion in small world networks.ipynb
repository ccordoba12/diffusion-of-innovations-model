{
 "cells": [
  {
   "cell_type": "markdown",
   "metadata": {},
   "source": [
    "# Diffusion of innovations in small-world networks with reflexivity"
   ]
  },
  {
   "cell_type": "markdown",
   "metadata": {},
   "source": [
    "This code uses the diffusion of innovations model present in\n",
    "\n",
    "> *Diffusion dynamics in small-world networks with heterogeneous consumers* from Delre, Sebastiano A., Jager, Wander and Janssen, Marco A., Computational and Mathematical Organization Theory, **13**, 2, 2007.\n",
    "\n",
    "with some modifications. It also uses new features that try to introduce reflexivity in that model."
   ]
  },
  {
   "cell_type": "code",
   "execution_count": 2,
   "metadata": {
    "collapsed": false
   },
   "outputs": [],
   "source": [
    "# Necessary libraries\n",
    "\n",
    "from __future__ import division\n",
    "\n",
    "# Stdlin imports\n",
    "import random\n",
    "\n",
    "# 3rd party imports\n",
    "import numpy as np\n",
    "import matplotlib.pyplot as plt\n",
    "import matplotlib.animation as animation\n",
    "import networkx as nx"
   ]
  },
  {
   "cell_type": "code",
   "execution_count": 453,
   "metadata": {
    "collapsed": true
   },
   "outputs": [],
   "source": [
    "plt.style.use('seaborn-paper')"
   ]
  },
  {
   "cell_type": "markdown",
   "metadata": {},
   "source": [
    "## 1. Auxiliary functions"
   ]
  },
  {
   "cell_type": "markdown",
   "metadata": {},
   "source": [
    "### 1.1 For plots"
   ]
  },
  {
   "cell_type": "code",
   "execution_count": 4,
   "metadata": {
    "collapsed": true
   },
   "outputs": [],
   "source": [
    "def set_colors(graph):\n",
    "    \"\"\"\n",
    "    Create a list of colors to apply to graph\n",
    "    \n",
    "    Adopters are blue and non-adopters are red\n",
    "    \"\"\"\n",
    "    colors = []\n",
    "    for n in graph.nodes():\n",
    "        node = G.node[n]\n",
    "        if node['adopter'] == 1:\n",
    "            colors.append('b')\n",
    "        else:\n",
    "            colors.append('r')\n",
    "    \n",
    "    return colors"
   ]
  },
  {
   "cell_type": "code",
   "execution_count": 6,
   "metadata": {
    "collapsed": false
   },
   "outputs": [],
   "source": [
    "def draw_graph(graph, node_positions):\n",
    "    \"\"\"Function to draw the graph in which the evolution is occurring\"\"\"\n",
    "    nx.draw_networkx_nodes(graph, node_positions, node_color=set_colors(graph), node_size=50)\n",
    "    nx.draw_networkx_edges(graph, node_positions, width=0.3, alpha=0.5)"
   ]
  },
  {
   "cell_type": "code",
   "execution_count": 7,
   "metadata": {
    "collapsed": true
   },
   "outputs": [],
   "source": [
    "def animate(i, graph, node_positions, parameters, test=False):\n",
    "    \"\"\"Function to animate the algorithm evolution\"\"\"\n",
    "    #print(i)\n",
    "    if test:\n",
    "        node = graph.node[i]\n",
    "        node['adopter'] = 1\n",
    "    else:\n",
    "        evolution_step(graph, parameters)\n",
    "    draw_graph(graph, node_positions)"
   ]
  },
  {
   "cell_type": "markdown",
   "metadata": {},
   "source": [
    "### 1.2 For the algorithm"
   ]
  },
  {
   "cell_type": "code",
   "execution_count": 3,
   "metadata": {
    "collapsed": true
   },
   "outputs": [],
   "source": [
    "def get_neighbors(graph, node, level):\n",
    "    \"\"\"Get neighbors of a given node up to a certain level\"\"\"\n",
    "    min_level = int(level)\n",
    "    if min_level < level:\n",
    "        max_level = min_level + 1\n",
    "        percentaje = level - min_level\n",
    "    else:\n",
    "        max_level = level\n",
    "        percentaje = 0\n",
    "    \n",
    "    # All neighbors up to max_level\n",
    "    all_neighbors = nx.single_source_shortest_path_length(graph, node, cutoff=max_level)\n",
    "    \n",
    "    if percentaje > 0:\n",
    "        neighbors_min_level = [k for (k, v) in all_neighbors.items() if (1 <= v <= min_level)]\n",
    "        neighbors_max_level = [k for (k, v) in all_neighbors.items() if v == max_level]\n",
    "        n = np.round(len(neighbors_max_level) * percentaje)\n",
    "        additional_neighbors = random.sample(neighbors_max_level, int(n))\n",
    "        neighbors = neighbors_min_level + additional_neighbors\n",
    "    else:\n",
    "        neighbors = [k for (k, v) in all_neighbors.items() if (1 <= v <= max_level)]\n",
    "    \n",
    "    return neighbors"
   ]
  },
  {
   "cell_type": "code",
   "execution_count": 5,
   "metadata": {
    "collapsed": true
   },
   "outputs": [],
   "source": [
    "def is_adopter(graph, node):\n",
    "    \"\"\"Return True if a node is an adopter\"\"\"\n",
    "    return graph.node[node]['adopter'] == 1"
   ]
  },
  {
   "cell_type": "code",
   "execution_count": 406,
   "metadata": {
    "collapsed": true
   },
   "outputs": [],
   "source": [
    "def get_adopters(graph):\n",
    "    \"\"\"Get the nodes that are adopters in the graph\"\"\"\n",
    "    return [x for x in graph.nodes() if is_adopter(graph, x)]"
   ]
  },
  {
   "cell_type": "code",
   "execution_count": 8,
   "metadata": {
    "collapsed": true
   },
   "outputs": [],
   "source": [
    "def speed_of_diffusion(adopters):\n",
    "    \"\"\"\n",
    "    Compute the velocity of diffusion $rho$\n",
    "    \n",
    "    This is done according to equation 6 in the article\n",
    "    \"\"\"\n",
    "    T = len(adopters)\n",
    "    cumulative_adopters = np.cumsum(adopters)\n",
    "    return (1/T) * ( sum(cumulative_adopters) / sum(adopters) )"
   ]
  },
  {
   "cell_type": "code",
   "execution_count": 91,
   "metadata": {
    "collapsed": true
   },
   "outputs": [],
   "source": [
    "def homophily_index(graph):\n",
    "    \"\"\"\n",
    "    Return the number of cross-gender edges over the total number of edges\n",
    "    \n",
    "    Cross-gender edges mean edges between adopters and non-adopters\n",
    "    \"\"\"\n",
    "    cross_gender_edges = []\n",
    "    for e in graph.edges():\n",
    "        i = e[0]\n",
    "        j = e[1]\n",
    "        if is_adopter(graph, i) and not is_adopter(graph, j) or is_adopter(graph, j) and not is_adopter(graph, i):\n",
    "            cross_gender_edges.append(e)\n",
    "    \n",
    "    #print( len(cross_gender_edges), len(graph.edges()) )\n",
    "    return len(cross_gender_edges) / len(graph.edges())"
   ]
  },
  {
   "cell_type": "code",
   "execution_count": 381,
   "metadata": {
    "collapsed": true
   },
   "outputs": [],
   "source": [
    "def clustering_index(graph):\n",
    "    \"\"\"\n",
    "    Return an index that quantifies how big the size of adopter\n",
    "    clusters is in the entire population of consumers\n",
    "    \n",
    "    This index computes the cluster-size-weighted average of adopter\n",
    "    clusters divided by the total number of consumers\n",
    "    \n",
    "    So it goes from 0 to 1 and it's always increasing.\n",
    "    \"\"\"\n",
    "    N = len(graph.nodes())\n",
    "    adopters = get_adopters(graph)\n",
    "    \n",
    "    clusters = nx.subgraph(graph, adopters)\n",
    "    cluster_sizes = [len(c) for c in nx.connected_components(clusters) if len(c) > 1]\n",
    "    if cluster_sizes:\n",
    "        # The weight of each cluster depends on its size\n",
    "        weights = np.array(cluster_sizes) / N\n",
    "        # Compute the weighted average\n",
    "        weigthed_average = np.average(cluster_sizes, weights=weights)\n",
    "        # Since the index needs to go between 0 and 1, we need to divide between N\n",
    "        # again\n",
    "        index = weigthed_average / N\n",
    "        return index\n",
    "    else:\n",
    "        return 0"
   ]
  },
  {
   "cell_type": "code",
   "execution_count": null,
   "metadata": {
    "collapsed": true
   },
   "outputs": [],
   "source": [
    "def logistic(x, k, x0):\n",
    "    \"\"\"\n",
    "    Logistic function\n",
    "    \n",
    "    See https://en.wikipedia.org/wiki/Logistic_function for\n",
    "    its parameters\n",
    "    \"\"\"\n",
    "    if x == 0:\n",
    "        return 0\n",
    "    elif x == 1:\n",
    "        return 1\n",
    "    else:\n",
    "        return 1 / ( 1 + np.exp(-k * (x - x0)) )"
   ]
  },
  {
   "cell_type": "code",
   "execution_count": 740,
   "metadata": {
    "collapsed": true
   },
   "outputs": [],
   "source": [
    "def step(x, k, x0):\n",
    "    \"\"\"\n",
    "    Step function\n",
    "    \n",
    "    Taken from http://stackoverflow.com/a/28892278/438386\n",
    "    \n",
    "    k is not needed but it's added here to have the same interface as\n",
    "    the logistic function above\n",
    "    \"\"\"\n",
    "    return 1. * (x > x0)"
   ]
  },
  {
   "cell_type": "markdown",
   "metadata": {},
   "source": [
    "## Algorithm"
   ]
  },
  {
   "cell_type": "code",
   "execution_count": 9,
   "metadata": {
    "collapsed": false
   },
   "outputs": [],
   "source": [
    "def generate_initial_conditions(number_of_nodes, parameters):\n",
    "    \"\"\"\n",
    "    Initial conditions for the simulation\n",
    "    \n",
    "    Create the graph on which the diffusion occurs and set additional\n",
    "    attributes for its node\n",
    "    \n",
    "     `parameters` is a dictionary that contains the parameters that control\n",
    "     the evolution.\n",
    "    \"\"\"\n",
    "    # Network creation.\n",
    "    # 4 is the average number of neighbors each node has in the graph\n",
    "    # This number is fixed in the article\n",
    "    G = nx.generators.watts_strogatz_graph(number_of_nodes, 4,\n",
    "                                           parameters['randomness'])\n",
    "    \n",
    "    for node_index in G.nodes():\n",
    "        node = G.node[node_index]\n",
    "        node['adopter'] = 0                              # 1 is adopter, 0 non-adopter\n",
    "        node['preference'] = np.random.random()          # pi\n",
    "        #node['minimal_utility'] = np.random.random()\n",
    "        \n",
    "        # Neighbors never change if the level is an int\n",
    "        if int(parameters['level']) - parameters['level'] == 0:\n",
    "            node['neighbors'] = get_neighbors(G, node_index, parameters['level'])\n",
    "        else:\n",
    "            node['neighbors'] = []\n",
    "    \n",
    "    # Create a seed of initial adopters if there's no marketing\n",
    "    if not parameters['marketing_effort']:\n",
    "        seed = np.round(len(G.nodes()) * parameters['initial_seed'])\n",
    "        initial_adopters = random.sample(G.nodes(), int(seed))\n",
    "        \n",
    "        for node_index in initial_adopters:\n",
    "            node = G.node[node_index]\n",
    "            node['adopter'] = 1\n",
    "    \n",
    "    return G"
   ]
  },
  {
   "cell_type": "code",
   "execution_count": 55,
   "metadata": {
    "collapsed": false
   },
   "outputs": [],
   "source": [
    "def evolution_step(graph, parameters, test=False):\n",
    "    \"\"\"\n",
    "    Function that computes the evolution step of the diffusion process\n",
    "    that occurs in a small-world graph\n",
    "    \n",
    "    `parameters` is a dictionary that contains the parameters that\n",
    "    control the evolution.\n",
    "    \"\"\"\n",
    "    \n",
    "    #minimal_utility = parameters['minimal_utility']\n",
    "    \n",
    "    # Adopters before performing the current step\n",
    "    previous_adopters = get_adopters(graph)\n",
    "    \n",
    "    # To save the adopters at this time step\n",
    "    adopters_at_step = []\n",
    "    \n",
    "    # Compute quantities that depend on the global state of the system.\n",
    "    # Thus they are the same for all agents during this time step\n",
    "    if parameters['reflexivity']:\n",
    "        # Compute utility due to indirect social influence\n",
    "        indirect_utility = clustering_index(graph)\n",
    "\n",
    "        # Decide which activation function to use.\n",
    "        if not test:\n",
    "            activation = logistic\n",
    "        else:\n",
    "            activation = step\n",
    "        \n",
    "        # Compute reflexivity index\n",
    "        reflexivity_index = activation(indirect_utility,\n",
    "                                       parameters['reflexivity_coefficient'],\n",
    "                                       parameters['reflexivity_threshold'])\n",
    "        #print(reflexivity_index)\n",
    "    \n",
    "    \n",
    "    # Determine which agents adopt\n",
    "    for node_index in graph.nodes():\n",
    "        node = graph.node[node_index]\n",
    "\n",
    "        # -- Adoption due to marketing\n",
    "        if parameters['marketing_effort']:\n",
    "            p = np.random.random()\n",
    "            if not node['adopter'] and (p < parameters['marketing_effort']):\n",
    "                adopters_at_step.append(node_index)\n",
    "                continue\n",
    "\n",
    "        # -- Compute utility due to direct social influence\n",
    "        # Adopters\n",
    "        if node['neighbors']:\n",
    "            neighbors = node['neighbors']\n",
    "        else:\n",
    "            neighbors = get_neighbors(graph, node_index, level=parameters['level'])\n",
    "        adopters_among_neighbors = [x for x in neighbors if is_adopter(graph, x)]\n",
    "\n",
    "        # Only if a consumer has adopters among his neighbors, he computes\n",
    "        # his direct utility\n",
    "        if len(adopters_among_neighbors) > 0:\n",
    "\n",
    "            # Ai value\n",
    "            adopters_percentaje = len(adopters_among_neighbors) / len(neighbors)\n",
    "\n",
    "            # Computing xi\n",
    "            if adopters_percentaje > parameters['social_threshold']:\n",
    "                local_influence = 1\n",
    "            else:\n",
    "                local_influence = 0\n",
    "            \n",
    "            # Set individual preference (yi)\n",
    "            if parameters['quality'] >= node['preference']:\n",
    "                individual_preference = 1\n",
    "            else:\n",
    "                individual_preference = 0\n",
    "\n",
    "            # Computing utility Ui\n",
    "            direct_utility = parameters['social_influence'] * local_influence + \\\n",
    "                             (1 - parameters['social_influence']) * individual_preference\n",
    "        else:\n",
    "            direct_utility = 0\n",
    "        \n",
    "        # -- Compute utility if reflexivity is on or off\n",
    "        if parameters['reflexivity']:\n",
    "            # Compute utility if agent has become aware of a global pattern\n",
    "            # or not\n",
    "            alpha = np.random.random()\n",
    "            if alpha < reflexivity_index:\n",
    "                utility = direct_utility + indirect_utility - direct_utility * indirect_utility\n",
    "            else:\n",
    "                utility = direct_utility\n",
    "        else:\n",
    "            utility = direct_utility\n",
    "        \n",
    "        # Decide to adopt if agent's utility is higher than a minimal\n",
    "        # utility\n",
    "        minimal_utility = np.random.random()\n",
    "        if minimal_utility <= utility:\n",
    "            adopters_at_step.append(node_index)\n",
    "        \n",
    "        # print(utility)\n",
    "        #if utility > node['minimal_utility']: #minimal_utility:\n",
    "        #    if np.random.random() > node['minimal_utility']:\n",
    "        #        node['adopter'] = 1\n",
    "    \n",
    "    # Update the graph with customers who adopted in this time step\n",
    "    for node_index in adopters_at_step:\n",
    "        node = graph.node[node_index]\n",
    "        node['adopter'] = 1\n",
    "    \n",
    "    # Return number of adopters at time t\n",
    "    current_adopters = get_adopters(graph)\n",
    "    return len(current_adopters) - len(previous_adopters)"
   ]
  },
  {
   "cell_type": "code",
   "execution_count": 17,
   "metadata": {
    "collapsed": false
   },
   "outputs": [],
   "source": [
    "def evolution(graph, parameters, max_time='complete_adoption', compute_index=False, test=False):\n",
    "    \"\"\"Compute the evolution of the algorithm up to max_time\"\"\"\n",
    "    # Save the adopters at each time during the evolution\n",
    "    adopters = []\n",
    "    \n",
    "    # Compute the aggregation index during the evolution\n",
    "    if compute_index:\n",
    "        indexes = []\n",
    "    \n",
    "    # Perform the evolution\n",
    "    if max_time == 'complete_adoption':\n",
    "        while not all( [is_adopter(graph, x) for x in graph.nodes()] ):\n",
    "            adopters_at_t = evolution_step(graph, parameters, test)\n",
    "            adopters.append(adopters_at_t)\n",
    "            if compute_index:\n",
    "                indexes.append(clustering_index(graph))\n",
    "    else:\n",
    "        for t in range(max_time):\n",
    "            adopters_at_t = evolution_step(graph, parameters, test)\n",
    "            adopters.append(adopters_at_t)\n",
    "    \n",
    "    if compute_index:\n",
    "        return indexes\n",
    "    else:\n",
    "        return adopters"
   ]
  },
  {
   "cell_type": "code",
   "execution_count": 12,
   "metadata": {
    "collapsed": true
   },
   "outputs": [],
   "source": [
    "def compute_run(number_of_times, max_time, number_of_nodes, parameters):\n",
    "    \"\"\"\n",
    "    Compute a run of the algorithm\n",
    "    \n",
    "    A run consists in repeating the evolution of the algorithm under\n",
    "    the same conditions a certain number_of_times\n",
    "    \"\"\"\n",
    "    # Print the parameters of the run\n",
    "    print(parameters)\n",
    "\n",
    "    # Perform the run\n",
    "    speeds = []\n",
    "    for i in range(number_of_times):\n",
    "        graph = generate_initial_conditions(number_of_nodes, parameters)\n",
    "        adopters = evolution(graph, parameters, max_time)\n",
    "        speed = speed_of_diffusion(adopters)\n",
    "        speeds.append(speed)\n",
    "    \n",
    "    #return [np.mean(speeds), np.std(speeds)]\n",
    "    return np.mean(speeds)"
   ]
  },
  {
   "cell_type": "markdown",
   "metadata": {},
   "source": [
    "## Running the algorithm"
   ]
  },
  {
   "cell_type": "markdown",
   "metadata": {},
   "source": [
    "These are main parameters that control the evolution of the algorithm, and their corresponding variable in the article:\n",
    "\n",
    "* Network randomness (`randomness`): $r$\n",
    "* Quality: $q_{j}$\n",
    "* Marketing effort: $e_{1}$\n",
    "* Social influence: $\\beta_{j}$\n",
    "* Social threshold: $h_{i}$\n",
    "* Level: $L$\n",
    "* Reflexivity threshold: $r_{0}$\n",
    "* Reflexivity coefficient: $k$"
   ]
  },
  {
   "cell_type": "code",
   "execution_count": 721,
   "metadata": {
    "collapsed": false
   },
   "outputs": [],
   "source": [
    "parameters = dict(\n",
    "    randomness = 0.001,\n",
    "    quality = 0.5,\n",
    "    marketing_effort = 0.0001,\n",
    "    social_influence = 0.6,\n",
    "    social_threshold = 0.3,\n",
    "    #minimal_utility = 0.5,\n",
    "    level = 2,\n",
    "    reflexivity_coefficient = 35,\n",
    "    reflexivity_threshold = 0.85,\n",
    "    initial_seed = 0.01\n",
    ")"
   ]
  },
  {
   "cell_type": "code",
   "execution_count": null,
   "metadata": {
    "collapsed": false
   },
   "outputs": [],
   "source": [
    "beta_speeds = {}\n",
    "for beta in [0.6, 0.8, 1]:\n",
    "    speeds = []\n",
    "    parameters['social_influence'] = beta\n",
    "    for r in [0.0001, 0.001, 0.01, 0.1, 1]:\n",
    "        parameters['randomness'] = r\n",
    "        speed = compute_run(number_of_times=20,\n",
    "                            max_time=250,\n",
    "                            number_of_nodes=1000,\n",
    "                            parameters=parameters)\n",
    "        print(speed)\n",
    "        speeds.append(speed)\n",
    "    #print(speeds)\n",
    "    beta_speeds[beta] = speeds"
   ]
  },
  {
   "cell_type": "markdown",
   "metadata": {},
   "source": [
    "## Plots"
   ]
  },
  {
   "cell_type": "markdown",
   "metadata": {},
   "source": [
    "### 2d plots"
   ]
  },
  {
   "cell_type": "code",
   "execution_count": 14,
   "metadata": {
    "collapsed": true
   },
   "outputs": [],
   "source": [
    "%matplotlib inline"
   ]
  },
  {
   "cell_type": "code",
   "execution_count": 716,
   "metadata": {
    "collapsed": true
   },
   "outputs": [],
   "source": [
    "G = generate_initial_conditions(1000, parameters)"
   ]
  },
  {
   "cell_type": "code",
   "execution_count": 717,
   "metadata": {
    "collapsed": false
   },
   "outputs": [
    {
     "name": "stdout",
     "output_type": "stream",
     "text": [
      "{'social_influence': 0.6, 'randomness': 0.001, 'level': 2, 'reflexivity_coefficient': 14, 'social_threshold': 0.3, 'reflexivity': False, 'reflexivity_threshold': 0.7, 'quality': 0.5, 'marketing_effort': 0.0001}\n"
     ]
    }
   ],
   "source": [
    "# Perform the evolution of a single realization until there is\n",
    "# complete adoption\n",
    "parameters['reflexivity'] = False\n",
    "print(parameters)\n",
    "adopters_no_rx = evolution(G, parameters)"
   ]
  },
  {
   "cell_type": "code",
   "execution_count": 718,
   "metadata": {
    "collapsed": false
   },
   "outputs": [
    {
     "name": "stdout",
     "output_type": "stream",
     "text": [
      "{'social_influence': 0.6, 'randomness': 0.001, 'level': 2, 'reflexivity_coefficient': 14, 'social_threshold': 0.3, 'reflexivity': True, 'reflexivity_threshold': 0.7, 'quality': 0.5, 'marketing_effort': 0.0001}\n"
     ]
    }
   ],
   "source": [
    "parameters['reflexivity'] = True\n",
    "print(parameters)\n",
    "for i in G.nodes():\n",
    "    G.node[i]['adopter'] = 0\n",
    "adopters_rx = evolution(G, parameters)"
   ]
  },
  {
   "cell_type": "code",
   "execution_count": null,
   "metadata": {
    "collapsed": false
   },
   "outputs": [],
   "source": [
    "# Plot adopters at each time\n",
    "plt.plot(adopters_no_rx, label='Without Reflexivity')\n",
    "plt.plot(adopters_rx, label='With Reflexivity')\n",
    "plt.legend()"
   ]
  },
  {
   "cell_type": "code",
   "execution_count": null,
   "metadata": {
    "collapsed": false
   },
   "outputs": [],
   "source": [
    "# Plot the cumulative sum of adopters and non-adopters (the usual diffusion curve)\n",
    "plt.plot(np.cumsum(adopters_no_rx), label='Without Reflexivity')\n",
    "plt.plot(np.cumsum(adopters_rx), label='With Reflexivity')\n",
    "plt.legend()"
   ]
  },
  {
   "cell_type": "code",
   "execution_count": null,
   "metadata": {
    "collapsed": false
   },
   "outputs": [],
   "source": [
    "plt.plot(np.cumsum(adopters_rx), label='With Reflexivity')"
   ]
  },
  {
   "cell_type": "code",
   "execution_count": null,
   "metadata": {
    "collapsed": false
   },
   "outputs": [],
   "source": [
    "# Perform the evolution of a single realization until there is\n",
    "# complete adoption\n",
    "print(parameters)\n",
    "G = generate_initial_conditions(10000, parameters)\n",
    "indexes = evolution(G, parameters, compute_index=True)"
   ]
  },
  {
   "cell_type": "code",
   "execution_count": null,
   "metadata": {
    "collapsed": false
   },
   "outputs": [],
   "source": [
    "plt.plot(indexes)"
   ]
  },
  {
   "cell_type": "markdown",
   "metadata": {},
   "source": [
    "### Logistic function form"
   ]
  },
  {
   "cell_type": "markdown",
   "metadata": {},
   "source": [
    "This explores how the logistic function changes under different values of $k$ and $x_{0}$"
   ]
  },
  {
   "cell_type": "code",
   "execution_count": 324,
   "metadata": {
    "collapsed": true
   },
   "outputs": [],
   "source": [
    "from sympy import plot, symbols, exp"
   ]
  },
  {
   "cell_type": "code",
   "execution_count": 322,
   "metadata": {
    "collapsed": true
   },
   "outputs": [],
   "source": [
    "x = symbols('x')"
   ]
  },
  {
   "cell_type": "code",
   "execution_count": 722,
   "metadata": {
    "collapsed": true
   },
   "outputs": [],
   "source": [
    "def symbolic_logistic(x, k, x0):\n",
    "    return 1 / ( 1 + exp(-k * (x - x0)) )"
   ]
  },
  {
   "cell_type": "code",
   "execution_count": 723,
   "metadata": {
    "collapsed": false
   },
   "outputs": [
    {
     "data": {
      "image/png": "[encoded data removed]",
      "text/plain": [
       "<matplotlib.figure.Figure at 0x7ffb654b9d10>"
      ]
     },
     "metadata": {},
     "output_type": "display_data"
    },
    {
     "data": {
      "text/plain": [
       "<sympy.plotting.plot.Plot at 0x7ffb655807d0>"
      ]
     },
     "execution_count": 723,
     "metadata": {},
     "output_type": "execute_result"
    }
   ],
   "source": [
    "plot(symbolic_logistic(x, 300, 1), symbolic_logistic(x, 20, 0.34), (x, 0, 1))"
   ]
  },
  {
   "cell_type": "code",
   "execution_count": 725,
   "metadata": {
    "collapsed": false
   },
   "outputs": [
    {
     "data": {
      "text/plain": [
       "0.0474258731775667"
      ]
     },
     "execution_count": 725,
     "metadata": {},
     "output_type": "execute_result"
    }
   ],
   "source": [
    "symbolic_logistic(0.99, 300, 1)"
   ]
  },
  {
   "cell_type": "markdown",
   "metadata": {},
   "source": [
    "### Animations"
   ]
  },
  {
   "cell_type": "code",
   "execution_count": null,
   "metadata": {
    "collapsed": true
   },
   "outputs": [],
   "source": [
    "%matplolib qt"
   ]
  },
  {
   "cell_type": "code",
   "execution_count": null,
   "metadata": {
    "collapsed": true
   },
   "outputs": [],
   "source": [
    "G = generate_initial_conditions(1000, parameters)"
   ]
  },
  {
   "cell_type": "code",
   "execution_count": null,
   "metadata": {
    "collapsed": false
   },
   "outputs": [],
   "source": [
    "# Plot an animation of the evolution\n",
    "fig = plt.figure()\n",
    "positions = nx.spring_layout(G)\n",
    "animation.FuncAnimation(fig, lambda i: animate(i, G, positions, parameters, test=False),\n",
    "                        frames=500, interval=3, repeat=False)"
   ]
  },
  {
   "cell_type": "code",
   "execution_count": null,
   "metadata": {
    "collapsed": true
   },
   "outputs": [],
   "source": []
  }
 ],
 "metadata": {
  "kernelspec": {
   "display_name": "Python 2",
   "language": "python",
   "name": "python2"
  },
  "language_info": {
   "codemirror_mode": {
    "name": "ipython",
    "version": 2
   },
   "file_extension": ".py",
   "mimetype": "text/x-python",
   "name": "python",
   "nbconvert_exporter": "python",
   "pygments_lexer": "ipython2",
   "version": "2.7.11"
  }
 },
 "nbformat": 4,
 "nbformat_minor": 0
}
