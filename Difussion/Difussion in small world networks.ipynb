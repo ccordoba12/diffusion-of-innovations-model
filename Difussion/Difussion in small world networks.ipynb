{
 "cells": [
  {
   "cell_type": "markdown",
   "metadata": {},
   "source": [
    "# Diffusion in small-world networks with reflexivity"
   ]
  },
  {
   "cell_type": "markdown",
   "metadata": {},
   "source": [
    "This code reproduces the diffusion model present in\n",
    "\n",
    "*Diffusion dynamics in small-world networks with heterogeneous consumers* from Delre, Sebastiano A., Jager, Wander and Janssen, Marco A., Computational and Mathematical Organization Theory, **13**, 2, 2007."
   ]
  },
  {
   "cell_type": "code",
   "execution_count": 128,
   "metadata": {
    "collapsed": false
   },
   "outputs": [],
   "source": [
    "# Necessary libraries\n",
    "\n",
    "from __future__ import division\n",
    "\n",
    "%matplotlib qt\n",
    "\n",
    "import matplotlib.pyplot as plt\n",
    "import matplotlib.animation as animation\n",
    "\n",
    "import networkx as nx\n",
    "import numpy as np"
   ]
  },
  {
   "cell_type": "markdown",
   "metadata": {},
   "source": [
    "## Auxiliary functions"
   ]
  },
  {
   "cell_type": "code",
   "execution_count": null,
   "metadata": {
    "collapsed": true
   },
   "outputs": [],
   "source": [
    "def get_neighbors(graph, node, level):\n",
    "    \"\"\"Get neighbors of a given node up to a certain level\"\"\"\n",
    "    # All neighbors up to the given level\n",
    "    all_neighbors = nx.single_source_shortest_path_length(graph, node, cutoff=level)\n",
    "    \n",
    "    # Select only neighbors at the level we want\n",
    "    return [k for (k, v) in all_neighbors.items() if v == level]"
   ]
  },
  {
   "cell_type": "code",
   "execution_count": null,
   "metadata": {
    "collapsed": true
   },
   "outputs": [],
   "source": [
    "def set_colors(graph):\n",
    "    \"\"\"\n",
    "    Create a list of colors to apply to graph\n",
    "    \n",
    "    Adopters are blue and non-adopters are red\n",
    "    \"\"\"\n",
    "    colors = []\n",
    "    for n in graph.nodes():\n",
    "        node = G.node[n]\n",
    "        if node['adopter'] == 1:\n",
    "            colors.append('b')\n",
    "        else:\n",
    "            colors.append('r')\n",
    "    \n",
    "    return colors"
   ]
  },
  {
   "cell_type": "code",
   "execution_count": 98,
   "metadata": {
    "collapsed": true
   },
   "outputs": [],
   "source": [
    "def is_adopter(graph, node):\n",
    "        \"\"\"Return True if a node is an adopter\"\"\"\n",
    "        return graph.node[node]['adopter'] == 1"
   ]
  },
  {
   "cell_type": "code",
   "execution_count": 202,
   "metadata": {
    "collapsed": false
   },
   "outputs": [],
   "source": [
    "def draw_graph(graph, node_positions):\n",
    "    \"\"\"Function to draw the graph in which the evolution is occurring\"\"\"\n",
    "    nx.draw_networkx_nodes(graph, node_positions, node_color=set_colors(graph), node_size=50)\n",
    "    nx.draw_networkx_edges(graph, node_positions, width=0.3, alpha=0.5)"
   ]
  },
  {
   "cell_type": "code",
   "execution_count": 203,
   "metadata": {
    "collapsed": true
   },
   "outputs": [],
   "source": [
    "def animate(i, graph, node_positions, parameters, test=False):\n",
    "    \"\"\"Function to animate the algorithm evolution\"\"\"\n",
    "    #print(i)\n",
    "    if test:\n",
    "        node = graph.node[i]\n",
    "        node['adopter'] = 1\n",
    "    else:\n",
    "        evolution_step(graph, parameters)\n",
    "    draw_graph(graph, node_positions)"
   ]
  },
  {
   "cell_type": "code",
   "execution_count": 31,
   "metadata": {
    "collapsed": true
   },
   "outputs": [],
   "source": [
    "def speed_of_difussion(adopters):\n",
    "    \"\"\"\n",
    "    Compute the velocity of diffusion $rho$\n",
    "    \n",
    "    This is done according to equation 6 in the article\n",
    "    \"\"\"\n",
    "    T = len(adopters)\n",
    "    cumulative_adopters = [ sum(adopters[:i]) for i in range(1, T+1) ]\n",
    "    return (1/T) * ( sum(cumulative_adopters) / sum(adopters) )"
   ]
  },
  {
   "cell_type": "markdown",
   "metadata": {},
   "source": [
    "## Algorithm"
   ]
  },
  {
   "cell_type": "code",
   "execution_count": 255,
   "metadata": {
    "collapsed": false
   },
   "outputs": [],
   "source": [
    "def generate_initial_conditions(number_of_nodes, parameters):\n",
    "    \"\"\"\n",
    "    Initial conditions for the simulation\n",
    "    \n",
    "    Create the graph on which the difussion occurs and set additional\n",
    "    attributes for its node\n",
    "    \n",
    "     `parameters` is a dictionary that contains the parameters that control\n",
    "     the evolution.\n",
    "    \"\"\"\n",
    "    # Network creation.\n",
    "    # 4 is the average number of neighbors each node has in the graph\n",
    "    # This number is fixed in the article\n",
    "    G = nx.generators.watts_strogatz_graph(number_of_nodes, 4,\n",
    "                                           parameters['randomness'])\n",
    "    \n",
    "    for n in G.nodes():\n",
    "        node = G.node[n]\n",
    "        node['adopter'] = 0                              # 1 is adopter, 0 non-adopter\n",
    "        node['preference'] = np.random.random()          # pi\n",
    "        \n",
    "        # Consumers at level 2\n",
    "        node['neighbors_level_2'] = get_neighbors(G, n, level=parameters['level'])\n",
    "        \n",
    "        # Total number of neighbors up to level 2\n",
    "        node['number_of_neighbors'] = len(G.neighbors(n) + node['neighbors_level_2'])\n",
    "    \n",
    "    return G"
   ]
  },
  {
   "cell_type": "code",
   "execution_count": 46,
   "metadata": {
    "collapsed": true
   },
   "outputs": [],
   "source": [
    "def evolution_step(graph, parameters):\n",
    "    \"\"\"\n",
    "    Function that computes the evolution step of the difussion process\n",
    "    that occurs in a small-world graph\n",
    "    \n",
    "    `parameters` is a dictionary that contains the parameters that\n",
    "    control the evolution.\n",
    "    \"\"\"\n",
    "    \n",
    "    marketing_effort = parameters['marketing_effort']\n",
    "    social_threshold = parameters['social_threshold']\n",
    "    social_influence = parameters['social_influence']\n",
    "    minimal_utility = parameters['minimal_utility']\n",
    "    \n",
    "    # Adopters before performing the current step\n",
    "    previous_adopters = [x for x in graph.nodes() if is_adopter(graph, x)]\n",
    "    \n",
    "    for n in graph.nodes():\n",
    "        node = graph.node[n]\n",
    "\n",
    "        # -- Adoption due to marketing\n",
    "        p = np.random.random()\n",
    "        if not node['adopter'] and (p < marketing_effort):\n",
    "            node['adopter'] = 1\n",
    "\n",
    "        # -- Adoption due to utility\n",
    "\n",
    "        # Adopters at level 1\n",
    "        adopters_level_1 = [x for x in graph.neighbors(n) if is_adopter(graph, x)]\n",
    "\n",
    "        # Adopters at level 2\n",
    "        adopters_level_2 = [x for x in node['neighbors_level_2'] if is_adopter(graph, x)]\n",
    "\n",
    "        # Total number of adopters\n",
    "        adopters_among_neighbors = len(adopters_level_1) + len(adopters_level_2)\n",
    "\n",
    "        # Only if a consumer has adopters among his neighbors, he decides to adopt!\n",
    "        if adopters_among_neighbors > 0:\n",
    "\n",
    "            # Ai value\n",
    "            adopters_percentaje = adopters_among_neighbors / node['number_of_neighbors']\n",
    "\n",
    "            # Computing xi\n",
    "            if adopters_percentaje > social_threshold:\n",
    "                local_influence = 1\n",
    "            else:\n",
    "                local_influence = 0\n",
    "            \n",
    "            # Set individual preference (yi)\n",
    "            if parameters['quality'] >= node['preference']:\n",
    "                individual_preference = 1\n",
    "            else:\n",
    "                individual_preference = 0\n",
    "\n",
    "            # Computing utility Ui\n",
    "            utility = social_influence * local_influence + (1 - social_influence) * individual_preference\n",
    "\n",
    "            # print(utility)\n",
    "            if utility > minimal_utility:\n",
    "                if np.random.random() > 1 - minimal_utility:\n",
    "                    node['adopter'] = 1\n",
    "    \n",
    "    # Return number of adopters at time t\n",
    "    current_adopters = [x for x in graph.nodes() if is_adopter(graph, x)]\n",
    "    return len(current_adopters) - len(previous_adopters)"
   ]
  },
  {
   "cell_type": "code",
   "execution_count": null,
   "metadata": {
    "collapsed": true
   },
   "outputs": [],
   "source": [
    "def evolution(max_time, graph, parameters):\n",
    "    \"\"\"Compute the evolution of the algorithm up to max_time\"\"\"\n",
    "    # Save the adopters at each time during the evolution\n",
    "    adopters = []\n",
    "    \n",
    "    # Print the parameters of the run\n",
    "    print(parameters)\n",
    "    \n",
    "    # Perform the evolution\n",
    "    for t in range(t):\n",
    "        n = evolution_step(G, parameters)\n",
    "        adopters.append(n)\n",
    "    \n",
    "    return adopters"
   ]
  },
  {
   "cell_type": "markdown",
   "metadata": {},
   "source": [
    "## Running the algorithm"
   ]
  },
  {
   "cell_type": "markdown",
   "metadata": {},
   "source": [
    "These are main parameters that control the evolution of the algorithm, and their corresponding variable in the article:\n",
    "\n",
    "* Network randomness (`randomness`): $r$\n",
    "* Quality: $q_{j}$\n",
    "* Marketing effort: $e_{1}$\n",
    "* Social influence: $\\beta_{j}$\n",
    "* Social threshold: $h_{i}$\n",
    "* Minimal utility:  $U_{i, MIN}$"
   ]
  },
  {
   "cell_type": "code",
   "execution_count": 246,
   "metadata": {
    "collapsed": true
   },
   "outputs": [],
   "source": [
    "parameters = dict(\n",
    "    randomness = 0.01,\n",
    "    quality = 0.5,\n",
    "    marketing_effort = 0.1,\n",
    "    social_influence = 1,\n",
    "    social_threshold = 0.3,\n",
    "    minimal_utility = 0.9,\n",
    "    level = 2,\n",
    ")"
   ]
  },
  {
   "cell_type": "code",
   "execution_count": 256,
   "metadata": {
    "collapsed": false
   },
   "outputs": [],
   "source": [
    "G = generate_initial_conditions(number_of_nodes=50, paremeters=paremeters)"
   ]
  },
  {
   "cell_type": "code",
   "execution_count": 56,
   "metadata": {
    "collapsed": false
   },
   "outputs": [
    {
     "data": {
      "text/plain": [
       "<matplotlib.animation.FuncAnimation at 0x7f60b4d12d90>"
      ]
     },
     "execution_count": 56,
     "metadata": {},
     "output_type": "execute_result"
    }
   ],
   "source": [
    "fig = plt.figure()\n",
    "positions = nx.spring_layout(G)\n",
    "animation.FuncAnimation(fig, lambda i: animate(i, G, positions, test=True), frames=50, interval=1, repeat=False)"
   ]
  },
  {
   "cell_type": "code",
   "execution_count": null,
   "metadata": {
    "collapsed": true
   },
   "outputs": [],
   "source": []
  }
 ],
 "metadata": {
  "kernelspec": {
   "display_name": "Python 2",
   "language": "python",
   "name": "python2"
  },
  "language_info": {
   "codemirror_mode": {
    "name": "ipython",
    "version": 2
   },
   "file_extension": ".py",
   "mimetype": "text/x-python",
   "name": "python",
   "nbconvert_exporter": "python",
   "pygments_lexer": "ipython2",
   "version": "2.7.11"
  }
 },
 "nbformat": 4,
 "nbformat_minor": 0
}
