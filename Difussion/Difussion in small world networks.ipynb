{
 "cells": [
  {
   "cell_type": "code",
   "execution_count": null,
   "metadata": {
    "collapsed": false
   },
   "outputs": [],
   "source": [
    "# Necessary libraries\n",
    "\n",
    "%matplotlib inline\n",
    "\n",
    "import networkx as nx\n",
    "import numpy as np"
   ]
  },
  {
   "cell_type": "markdown",
   "metadata": {},
   "source": [
    "## Auxiliary functions"
   ]
  },
  {
   "cell_type": "code",
   "execution_count": null,
   "metadata": {
    "collapsed": true
   },
   "outputs": [],
   "source": [
    "def get_neighbors(graph, node, level):\n",
    "    \"\"\"Get neighbors of a given node up to a certain level\"\"\"\n",
    "    # All neighbors up to the given level\n",
    "    all_neighbors = nx.single_source_shortest_path_length(graph, node, cutoff=level)\n",
    "    \n",
    "    # Select only neighbors at the level we want\n",
    "    return [k for (k, v) in all_neighbors.items() if v == level]"
   ]
  },
  {
   "cell_type": "markdown",
   "metadata": {},
   "source": [
    "## Algorithm"
   ]
  },
  {
   "cell_type": "code",
   "execution_count": null,
   "metadata": {
    "collapsed": false
   },
   "outputs": [],
   "source": [
    "def generate_initial_conditions(number_of_nodes, randomness, quality):\n",
    "    \"\"\"\n",
    "    Initial conditions for the simulation\n",
    "    \n",
    "    Set additional attributes for each node\n",
    "    \"\"\"\n",
    "    # Network creation\n",
    "    G = nx.generators.watts_strogatz_graph(number_of_nodes, 4, randomness)\n",
    "    \n",
    "    for n in G.nodes():\n",
    "        node = G.node[n]\n",
    "        node['adopter'] = 0             # 1 is adopter, 0 non-adopter\n",
    "        node['preference'] = 0          # pi\n",
    "        node['local_influence'] = 0     # xi\n",
    "        \n",
    "        # Set individual preference (yi)\n",
    "        preference = np.random.random()\n",
    "        if quality >= preference: \n",
    "            node['individual_preference'] = 1\n",
    "        else:\n",
    "            node['individual_preference'] = 0\n",
    "        \n",
    "        # Consumers at level 2\n",
    "        node['neighbors_level_2'] = get_neighbors(G, n, level=2)\n",
    "        \n",
    "        # Total number of neighbors up to level 2\n",
    "        node['number_of_neighbors'] = len(G.neighbors(n) + node['neighbors_level_2'])\n",
    "    \n",
    "    return G"
   ]
  },
  {
   "cell_type": "code",
   "execution_count": null,
   "metadata": {
    "collapsed": true
   },
   "outputs": [],
   "source": [
    "def evolution(graph, max_time, marketing_effort, social_threshold, social_influence, minimal_utility):\n",
    "    def is_adopter(node):\n",
    "        \"\"\"Return True if a node is an adopter\"\"\"\n",
    "        return graph.node[node]['adopter'] == 1\n",
    "    \n",
    "    for t in range(max_time):\n",
    "        for n in graph.nodes():\n",
    "            node = graph.node[n]\n",
    "\n",
    "            # -- Adoption due to marketing\n",
    "            p = np.random.random()\n",
    "            if not node['adopter'] and (p < marketing_effort):\n",
    "                node['adopter'] = 1\n",
    "\n",
    "            # -- Adoption due to utility\n",
    "\n",
    "            # Adopters at level 1\n",
    "            adopters_level_1 = filter(is_adopter, graph.neighbors(n))\n",
    "\n",
    "            # Adopters at level 2\n",
    "            adopters_level_2 = filter(is_adopter, node['neighbors_level_2'])\n",
    "\n",
    "            # Total number of adopters\n",
    "            adopters_among_neighbors = len(adopters_level_1) + len(adopters_level_2)\n",
    "\n",
    "            # Only if a consumer has adopters among his neighbors, he decides to adopt!\n",
    "            if adopters_among_neighbors > 0:\n",
    "\n",
    "                # Ai value\n",
    "                adopters_percentaje = adopters_among_neighbors / node['number_of_neighbors']\n",
    "\n",
    "                # Computing xi\n",
    "                if adopters_percentaje > social_threshold:\n",
    "                    node['local-influence'] = 1\n",
    "                else:\n",
    "                    node['local-influence'] = 0\n",
    "\n",
    "                # Computing utility Ui\n",
    "                utility = social_influence * node['local_influence'] + (1 - social_influence) * node['individual_preference']\n",
    "\n",
    "                # print(utility)\n",
    "                if utility > minimal_utility:\n",
    "                    node['adopter'] = 1"
   ]
  },
  {
   "cell_type": "code",
   "execution_count": null,
   "metadata": {
    "collapsed": false
   },
   "outputs": [],
   "source": [
    "G = generate_initial_conditions(number_of_nodes=50,\n",
    "                                randomness=0.01,\n",
    "                                quality=0.5)"
   ]
  },
  {
   "cell_type": "code",
   "execution_count": null,
   "metadata": {
    "collapsed": false
   },
   "outputs": [],
   "source": [
    "pos = pos=nx.spring_layout(G)\n",
    "nx.draw_networkx_nodes(G, pos)\n",
    "nx.draw_networkx_edges(G, pos)\n",
    "nx.draw_networkx_labels(G, pos);"
   ]
  },
  {
   "cell_type": "code",
   "execution_count": null,
   "metadata": {
    "collapsed": false
   },
   "outputs": [],
   "source": [
    "G.node[6]"
   ]
  },
  {
   "cell_type": "code",
   "execution_count": null,
   "metadata": {
    "collapsed": true
   },
   "outputs": [],
   "source": []
  }
 ],
 "metadata": {
  "kernelspec": {
   "display_name": "Python 2",
   "language": "python",
   "name": "python2"
  },
  "language_info": {
   "codemirror_mode": {
    "name": "ipython",
    "version": 2
   },
   "file_extension": ".py",
   "mimetype": "text/x-python",
   "name": "python",
   "nbconvert_exporter": "python",
   "pygments_lexer": "ipython2",
   "version": "2.7.11"
  }
 },
 "nbformat": 4,
 "nbformat_minor": 0
}
