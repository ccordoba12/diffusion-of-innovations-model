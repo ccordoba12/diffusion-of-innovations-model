{
 "cells": [
  {
   "cell_type": "markdown",
   "metadata": {},
   "source": [
    "# Diffusion in small-world networks with reflexivity"
   ]
  },
  {
   "cell_type": "markdown",
   "metadata": {},
   "source": [
    "This code reproduces the diffusion model present in\n",
    "\n",
    "*Diffusion dynamics in small-world networks with heterogeneous consumers* from Delre, Sebastiano A., Jager, Wander and Janssen, Marco A., Computational and Mathematical Organization Theory, **13**, 2, 2007."
   ]
  },
  {
   "cell_type": "code",
   "execution_count": 128,
   "metadata": {
    "collapsed": false
   },
   "outputs": [],
   "source": [
    "# Necessary libraries\n",
    "\n",
    "from __future__ import division\n",
    "\n",
    "import random\n",
    "\n",
    "import numpy as np\n",
    "import matplotlib.pyplot as plt\n",
    "import matplotlib.animation as animation\n",
    "import networkx as nx"
   ]
  },
  {
   "cell_type": "markdown",
   "metadata": {},
   "source": [
    "## Auxiliary functions"
   ]
  },
  {
   "cell_type": "code",
   "execution_count": null,
   "metadata": {
    "collapsed": true
   },
   "outputs": [],
   "source": [
    "def get_neighbors(graph, node, level):\n",
    "    \"\"\"Get neighbors of a given node up to a certain level\"\"\"\n",
    "    min_level = int(level)\n",
    "    if min_level < level:\n",
    "        max_level = min_level + 1\n",
    "        percentaje = level - min_level\n",
    "    else:\n",
    "        max_level = level\n",
    "        percentaje = 0\n",
    "    \n",
    "    # All neighbors up to max_level\n",
    "    all_neighbors = nx.single_source_shortest_path_length(graph, node, cutoff=max_level)\n",
    "    \n",
    "    if percentaje > 0:\n",
    "        neighbors_min_level = [k for (k, v) in all_neighbors.items() if (1 <= v <= min_level)]\n",
    "        neighbors_max_level = [k for (k, v) in all_neighbors.items() if v == max_level]\n",
    "        n = np.round(len(neighbors_max_level) * percentaje)\n",
    "        additional_neighbors = random.sample(neighbors_max_level, int(n))\n",
    "        neighbors = neighbors_min_level + additional_neighbors\n",
    "    else:\n",
    "        neighbors = [k for (k, v) in all_neighbors.items() if (1 <= v <= max_level)]\n",
    "    \n",
    "    return neighbors"
   ]
  },
  {
   "cell_type": "code",
   "execution_count": 4,
   "metadata": {
    "collapsed": true
   },
   "outputs": [],
   "source": [
    "def set_colors(graph):\n",
    "    \"\"\"\n",
    "    Create a list of colors to apply to graph\n",
    "    \n",
    "    Adopters are blue and non-adopters are red\n",
    "    \"\"\"\n",
    "    colors = []\n",
    "    for n in graph.nodes():\n",
    "        node = G.node[n]\n",
    "        if node['adopter'] == 1:\n",
    "            colors.append('b')\n",
    "        else:\n",
    "            colors.append('r')\n",
    "    \n",
    "    return colors"
   ]
  },
  {
   "cell_type": "code",
   "execution_count": 98,
   "metadata": {
    "collapsed": true
   },
   "outputs": [],
   "source": [
    "def is_adopter(graph, node):\n",
    "        \"\"\"Return True if a node is an adopter\"\"\"\n",
    "        return graph.node[node]['adopter'] == 1"
   ]
  },
  {
   "cell_type": "code",
   "execution_count": 202,
   "metadata": {
    "collapsed": false
   },
   "outputs": [],
   "source": [
    "def draw_graph(graph, node_positions):\n",
    "    \"\"\"Function to draw the graph in which the evolution is occurring\"\"\"\n",
    "    nx.draw_networkx_nodes(graph, node_positions, node_color=set_colors(graph), node_size=50)\n",
    "    nx.draw_networkx_edges(graph, node_positions, width=0.3, alpha=0.5)"
   ]
  },
  {
   "cell_type": "code",
   "execution_count": 203,
   "metadata": {
    "collapsed": true
   },
   "outputs": [],
   "source": [
    "def animate(i, graph, node_positions, parameters, test=False):\n",
    "    \"\"\"Function to animate the algorithm evolution\"\"\"\n",
    "    #print(i)\n",
    "    if test:\n",
    "        node = graph.node[i]\n",
    "        node['adopter'] = 1\n",
    "    else:\n",
    "        evolution_step(graph, parameters)\n",
    "    draw_graph(graph, node_positions)"
   ]
  },
  {
   "cell_type": "code",
   "execution_count": 31,
   "metadata": {
    "collapsed": true
   },
   "outputs": [],
   "source": [
    "def speed_of_difussion(adopters):\n",
    "    \"\"\"\n",
    "    Compute the velocity of diffusion $rho$\n",
    "    \n",
    "    This is done according to equation 6 in the article\n",
    "    \"\"\"\n",
    "    T = len(adopters)\n",
    "    cumulative_adopters = np.cumsum(adopters)\n",
    "    return (1/T) * ( sum(cumulative_adopters) / sum(adopters) )"
   ]
  },
  {
   "cell_type": "markdown",
   "metadata": {},
   "source": [
    "## Algorithm"
   ]
  },
  {
   "cell_type": "code",
   "execution_count": 255,
   "metadata": {
    "collapsed": false
   },
   "outputs": [],
   "source": [
    "def generate_initial_conditions(number_of_nodes, parameters):\n",
    "    \"\"\"\n",
    "    Initial conditions for the simulation\n",
    "    \n",
    "    Create the graph on which the difussion occurs and set additional\n",
    "    attributes for its node\n",
    "    \n",
    "     `parameters` is a dictionary that contains the parameters that control\n",
    "     the evolution.\n",
    "    \"\"\"\n",
    "    # Network creation.\n",
    "    # 4 is the average number of neighbors each node has in the graph\n",
    "    # This number is fixed in the article\n",
    "    G = nx.generators.watts_strogatz_graph(number_of_nodes, 4,\n",
    "                                           parameters['randomness'])\n",
    "    \n",
    "    for n in G.nodes():\n",
    "        node = G.node[n]\n",
    "        node['adopter'] = 0                              # 1 is adopter, 0 non-adopter\n",
    "        node['preference'] = np.random.random()          # pi\n",
    "        #node['minimal_utility'] = np.random.random()\n",
    "        \n",
    "        # Neighbors never change if the level is an int\n",
    "        if int(parameters['level']) - parameters['level'] == 0:\n",
    "            node['neighbors'] = get_neighbors(G, n, parameters['level'])\n",
    "        else:\n",
    "            node['neighbors'] = []\n",
    "    \n",
    "    return G"
   ]
  },
  {
   "cell_type": "code",
   "execution_count": 538,
   "metadata": {
    "collapsed": false
   },
   "outputs": [],
   "source": [
    "def evolution_step(graph, parameters):\n",
    "    \"\"\"\n",
    "    Function that computes the evolution step of the difussion process\n",
    "    that occurs in a small-world graph\n",
    "    \n",
    "    `parameters` is a dictionary that contains the parameters that\n",
    "    control the evolution.\n",
    "    \"\"\"\n",
    "    \n",
    "    marketing_effort = parameters['marketing_effort']\n",
    "    social_threshold = parameters['social_threshold']\n",
    "    social_influence = parameters['social_influence']\n",
    "    #minimal_utility = parameters['minimal_utility']\n",
    "    \n",
    "    # Adopters before performing the current step\n",
    "    previous_adopters = [x for x in graph.nodes() if is_adopter(graph, x)]\n",
    "    \n",
    "    for n in graph.nodes():\n",
    "        node = graph.node[n]\n",
    "\n",
    "        # -- Adoption due to marketing\n",
    "        p = np.random.random()\n",
    "        if not node['adopter'] and (p < marketing_effort):\n",
    "            node['adopter'] = 1\n",
    "\n",
    "        # -- Adoption due to utility\n",
    "\n",
    "        # Adopters\n",
    "        if node['neighbors']:\n",
    "            neighbors = node['neighbors']\n",
    "        else:\n",
    "            neighbors = get_neighbors(graph, n, level=parameters['level'])\n",
    "        adopters_among_neighbors = [x for x in neighbors if is_adopter(graph, x)]\n",
    "\n",
    "        # Only if a consumer has adopters among his neighbors, he decides to adopt!\n",
    "        if len(adopters_among_neighbors) > 0:\n",
    "\n",
    "            # Ai value\n",
    "            adopters_percentaje = len(adopters_among_neighbors) / len(neighbors)\n",
    "\n",
    "            # Computing xi\n",
    "            if adopters_percentaje > social_threshold:\n",
    "                local_influence = 1\n",
    "            else:\n",
    "                local_influence = 0\n",
    "            \n",
    "            # Set individual preference (yi)\n",
    "            if parameters['quality'] >= node['preference']:\n",
    "                individual_preference = 1\n",
    "            else:\n",
    "                individual_preference = 0\n",
    "\n",
    "            # Computing utility Ui\n",
    "            utility = social_influence * local_influence + (1 - social_influence) * individual_preference\n",
    "\n",
    "            # print(utility)\n",
    "            #if utility > node['minimal_utility']: #minimal_utility:\n",
    "            #    if np.random.random() > node['minimal_utility']:\n",
    "            #        node['adopter'] = 1\n",
    "            \n",
    "            minimal_utility = np.random.random()\n",
    "            if minimal_utility <= utility:\n",
    "                node['adopter'] = 1\n",
    "    \n",
    "    # Return number of adopters at time t\n",
    "    current_adopters = [x for x in graph.nodes() if is_adopter(graph, x)]\n",
    "    return len(current_adopters) - len(previous_adopters)"
   ]
  },
  {
   "cell_type": "code",
   "execution_count": 331,
   "metadata": {
    "collapsed": true
   },
   "outputs": [],
   "source": [
    "def evolution(graph, parameters, max_time='complete_adoption'):\n",
    "    \"\"\"Compute the evolution of the algorithm up to max_time\"\"\"\n",
    "    # Save the adopters at each time during the evolution\n",
    "    adopters = []\n",
    "    \n",
    "    # Perform the evolution\n",
    "    if max_time == 'complete_adoption':\n",
    "        while not all( [is_adopter(graph, x) for x in graph.nodes()] ):\n",
    "            adopters_at_t = evolution_step(graph, parameters)\n",
    "            adopters.append(adopters_at_t)\n",
    "    else:\n",
    "        for t in range(max_time):\n",
    "            adopters_at_t = evolution_step(graph, parameters)\n",
    "            adopters.append(adopters_at_t)\n",
    "    \n",
    "    return adopters"
   ]
  },
  {
   "cell_type": "code",
   "execution_count": 332,
   "metadata": {
    "collapsed": true
   },
   "outputs": [],
   "source": [
    "def compute_run(number_of_times, max_time, number_of_nodes, parameters):\n",
    "    \"\"\"\n",
    "    Compute a run of the algorithm\n",
    "    \n",
    "    A run consists in repeating the evolution of the algorithm under\n",
    "    the same conditions a certain number_of_times\n",
    "    \"\"\"\n",
    "    # Print the parameters of the run\n",
    "    print(parameters)\n",
    "\n",
    "    # Perform the run\n",
    "    speeds = []\n",
    "    for i in range(number_of_times):\n",
    "        graph = generate_initial_conditions(number_of_nodes, parameters)\n",
    "        adopters = evolution(graph, parameters, max_time)\n",
    "        speed = speed_of_difussion(adopters)\n",
    "        speeds.append(speed)\n",
    "    \n",
    "    #return [np.mean(speeds), np.std(speeds)]\n",
    "    return np.mean(speeds)"
   ]
  },
  {
   "cell_type": "markdown",
   "metadata": {},
   "source": [
    "## Running the algorithm"
   ]
  },
  {
   "cell_type": "markdown",
   "metadata": {},
   "source": [
    "These are main parameters that control the evolution of the algorithm, and their corresponding variable in the article:\n",
    "\n",
    "* Network randomness (`randomness`): $r$\n",
    "* Quality: $q_{j}$\n",
    "* Marketing effort: $e_{1}$\n",
    "* Social influence: $\\beta_{j}$\n",
    "* Social threshold: $h_{i}$\n",
    "* Minimal utility:  $U_{i, MIN}$\n",
    "* Level: $L$"
   ]
  },
  {
   "cell_type": "code",
   "execution_count": 27,
   "metadata": {
    "collapsed": true
   },
   "outputs": [],
   "source": [
    "parameters = dict(\n",
    "    randomness = 0.001,\n",
    "    quality = 0.5,\n",
    "    marketing_effort = 0.0001,\n",
    "    social_influence = 0.6,\n",
    "    social_threshold = 0.3,\n",
    "    #minimal_utility = 0.5,\n",
    "    level = 2,\n",
    ")"
   ]
  },
  {
   "cell_type": "code",
   "execution_count": null,
   "metadata": {
    "collapsed": false
   },
   "outputs": [],
   "source": [
    "beta_speeds = {}\n",
    "for beta in [0.6, 0.8, 1]:\n",
    "    speeds = []\n",
    "    parameters['social_influence'] = beta\n",
    "    for r in [0.0001, 0.001, 0.01, 0.1, 1]:\n",
    "        parameters['randomness'] = r\n",
    "        speed = compute_run(number_of_times=20,\n",
    "                            max_time=250,\n",
    "                            number_of_nodes=1000,\n",
    "                            parameters=parameters)\n",
    "        print(speed)\n",
    "        speeds.append(speed)\n",
    "    #print(speeds)\n",
    "    beta_speeds[beta] = speeds"
   ]
  },
  {
   "cell_type": "markdown",
   "metadata": {},
   "source": [
    "## Plots"
   ]
  },
  {
   "cell_type": "markdown",
   "metadata": {},
   "source": [
    "### 2d plots"
   ]
  },
  {
   "cell_type": "code",
   "execution_count": 14,
   "metadata": {
    "collapsed": true
   },
   "outputs": [],
   "source": [
    "%matplotlib inline"
   ]
  },
  {
   "cell_type": "code",
   "execution_count": 28,
   "metadata": {
    "collapsed": false
   },
   "outputs": [
    {
     "name": "stdout",
     "output_type": "stream",
     "text": [
      "{'social_influence': 0.6, 'randomness': 0.001, 'level': 2, 'quality': 0.5, 'social_threshold': 0.3, 'marketing_effort': 0.0001}\n"
     ]
    }
   ],
   "source": [
    "# Perform the evolution of a single realization until there is\n",
    "# complete adoption\n",
    "print(parameters)\n",
    "G = generate_initial_conditions(5000, parameters)\n",
    "adopters = evolution(G, parameters)"
   ]
  },
  {
   "cell_type": "code",
   "execution_count": 29,
   "metadata": {
    "collapsed": false
   },
   "outputs": [
    {
     "data": {
      "text/plain": [
       "[<matplotlib.lines.Line2D at 0x7f11a5ccbb90>]"
      ]
     },
     "execution_count": 29,
     "metadata": {},
     "output_type": "execute_result"
    },
    {
     "data": {
      "image/png": "[encoded data removed]",
      "text/plain": [
       "<matplotlib.figure.Figure at 0x7f11a69407d0>"
      ]
     },
     "metadata": {},
     "output_type": "display_data"
    }
   ],
   "source": [
    "# Plot adopters at each time\n",
    "plt.plot(adopters)"
   ]
  },
  {
   "cell_type": "code",
   "execution_count": 354,
   "metadata": {
    "collapsed": false
   },
   "outputs": [
    {
     "data": {
      "text/plain": [
       "[<matplotlib.lines.Line2D at 0x7f11a5e1af50>]"
      ]
     },
     "execution_count": 30,
     "metadata": {},
     "output_type": "execute_result"
    },
    {
     "data": {
      "image/png": "[encoded data removed]",
      "text/plain": [
       "<matplotlib.figure.Figure at 0x7f11a647be50>"
      ]
     },
     "metadata": {},
     "output_type": "display_data"
    }
   ],
   "source": [
    "# Plot the cumulative sum of adopters and non-adopters (the usual difussion curve)\n",
    "plt.plot(np.cumsum(adopters))"
   ]
  },
  {
   "cell_type": "code",
   "execution_count": 244,
   "metadata": {
    "collapsed": false
   },
   "outputs": [],
   "source": [
    "# Draw the graph\n",
    "draw_graph(G, nx.spring_layout(G))"
   ]
  },
  {
   "cell_type": "markdown",
   "metadata": {},
   "source": [
    "### Animations"
   ]
  },
  {
   "cell_type": "code",
   "execution_count": null,
   "metadata": {
    "collapsed": true
   },
   "outputs": [],
   "source": [
    "%matplolib qt"
   ]
  },
  {
   "cell_type": "code",
   "execution_count": null,
   "metadata": {
    "collapsed": true
   },
   "outputs": [],
   "source": [
    "G = generate_initial_conditions(1000, parameters)"
   ]
  },
  {
   "cell_type": "code",
   "execution_count": null,
   "metadata": {
    "collapsed": false
   },
   "outputs": [],
   "source": [
    "# Plot an animation of the evolution\n",
    "fig = plt.figure()\n",
    "positions = nx.spring_layout(G)\n",
    "animation.FuncAnimation(fig, lambda i: animate(i, G, positions, parameters, test=False),\n",
    "                        frames=500, interval=3, repeat=False)"
   ]
  },
  {
   "cell_type": "code",
   "execution_count": null,
   "metadata": {
    "collapsed": true
   },
   "outputs": [],
   "source": []
  }
 ],
 "metadata": {
  "kernelspec": {
   "display_name": "Python 2",
   "language": "python",
   "name": "python2"
  },
  "language_info": {
   "codemirror_mode": {
    "name": "ipython",
    "version": 2
   },
   "file_extension": ".py",
   "mimetype": "text/x-python",
   "name": "python",
   "nbconvert_exporter": "python",
   "pygments_lexer": "ipython2",
   "version": "2.7.11"
  }
 },
 "nbformat": 4,
 "nbformat_minor": 0
}
